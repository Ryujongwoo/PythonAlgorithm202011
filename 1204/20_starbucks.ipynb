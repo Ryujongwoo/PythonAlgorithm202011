{
 "cells": [
  {
   "cell_type": "code",
   "execution_count": 1,
   "metadata": {},
   "outputs": [],
   "source": [
    "import requests"
   ]
  },
  {
   "cell_type": "markdown",
   "metadata": {},
   "source": [
    "시도 코드 크롤링"
   ]
  },
  {
   "cell_type": "code",
   "execution_count": 12,
   "metadata": {
    "scrolled": false
   },
   "outputs": [
    {
     "name": "stdout",
     "output_type": "stream",
     "text": [
      "{'01': '서울', '08': '경기', '02': '광주', '03': '대구', '04': '대전', '05': '부산', '06': '울산', '07': '인천', '09': '강원', '10': '경남', '11': '경북', '12': '전남', '13': '전북', '14': '충남', '15': '충북', '16': '제주', '17': '세종'}\n"
     ]
    }
   ],
   "source": [
    "targetSite = 'https://www.starbucks.co.kr/store/getSidoList.do' # 타겟 사이트, 요청 경로\n",
    "# Request URL(https://www.starbucks.co.kr/store/getSidoList.do)을 요청하는 Request Method가 post이므로 requests 모듈의 post()\n",
    "# 메소드로 서버에 정보를 요청한다.\n",
    "request = requests.post(targetSite)\n",
    "# print(request) # <Response [200]> => 요청 성공\n",
    "\n",
    "# json() 메소드로 서버에 요청해서 응답받은 json 타입으로 구성된 문자열을 파이썬에서 처리하기 위해서 딕셔너리로 변환한다.\n",
    "sido_List = request.json()\n",
    "# print(type(sido_List)) # <class 'dict'>\n",
    "# print(len(sido_List))  # 1\n",
    "# print(sido_List)       # json 타입의 데이터가 변환된 딕셔너리가 출력된다.\n",
    "\n",
    "# print(type(sido_List['list'])) # <class 'list'>\n",
    "# print(len(sido_List['list']))  # 17\n",
    "# print(sido_List['list'])       # json이 변환된 딕셔너리의 'list' 라는 key에 할당된 value인 딕셔너리 17개가 출력된다.\n",
    "\n",
    "# print(type(sido_List['list'][0])) # <class 'dict'>\n",
    "# print(sido_List['list'][0])\n",
    "\n",
    "sidoList = {}\n",
    "for sido in sido_List['list']:\n",
    "    # print('{} : {}'.format(sido['sido_cd'], sido['sido_nm']))\n",
    "    # sidoList 딕셔너리에 시도 코드를 key로 하고 시도 이름을 value로 해서 저장시킨다.\n",
    "    sidoList[sido['sido_cd']] = sido['sido_nm']\n",
    "print(sidoList)"
   ]
  },
  {
   "cell_type": "markdown",
   "metadata": {},
   "source": [
    "구군 코드 크롤링"
   ]
  },
  {
   "cell_type": "code",
   "execution_count": 56,
   "metadata": {},
   "outputs": [
    {
     "name": "stdout",
     "output_type": "stream",
     "text": [
      "구군 코드를 확인할 시도 코드를 입력하세요 : 01\n",
      "{'0101': '강남구', '0120': '강동구', '0102': '강북구', '0103': '강서구', '0104': '관악구', '0105': '광진구', '0121': '구로구', '0106': '금천구', '0107': '노원구', '0108': '도봉구', '0122': '동대문구', '0109': '동작구', '0110': '마포구', '0111': '서대문구', '0112': '서초구', '0123': '성동구', '0113': '성북구', '0114': '송파구', '0115': '양천구', '0116': '영등포구', '0124': '용산구', '0117': '은평구', '0118': '종로구', '0119': '중구', '0125': '중랑구'}\n"
     ]
    }
   ],
   "source": [
    "# 크롤링할 시도 코드를 입력받는다.\n",
    "sido_cd = input('구군 코드를 확인할 시도 코드를 입력하세요 : ')\n",
    "\n",
    "targetSite = 'https://www.starbucks.co.kr/store/getGugunList.do'\n",
    "# 시도 코드는 서버에 요청할 때 전체 시도 코드를 가져오면 되기 때문에 별도로 데이터를 넘겨주지 않았지만 시도에 따른 구군 코드를\n",
    "# 서버에 요청할 때는 얻어올 시도 코드를 서버에 넘겨서 시도 코드에 해당되는 데이터만 받아야 한다.\n",
    "# post() 메소드의 2번째 인수로 data 속성을 지정해서 서버로 넘겨줄 데이터를 딕셔너리 형태로 지정한다. => key는 반드시 Form Data에\n",
    "# 적혀있는 이름을 사용해야 한다.\n",
    "request = requests.post(targetSite, data = {\n",
    "    'sido_cd': sido_cd \n",
    "})\n",
    "\n",
    "gugun_list = request.json()\n",
    "# print(type(gugun_list))\n",
    "# print(len(gugun_list))\n",
    "# print(gugun_list)\n",
    "\n",
    "# print(type(gugun_list['list']))\n",
    "# print(len(gugun_list['list']))\n",
    "# print(gugun_list['list'])\n",
    "\n",
    "# print(type(gugun_list['list'][0]))\n",
    "# print(gugun_list['list'][0])\n",
    "\n",
    "# 구군 코드의 개수 만큼 반복하며 구군 코드(gugun_cd)를 key로 하고 구군 이름(gugun_nm)을 value로 하는 딕셔너리를 만든다.\n",
    "gugunList = {}\n",
    "for gugun in gugun_list['list']:\n",
    "    # print('{} : {}'.format(gugun['gugun_cd'], gugun['gugun_nm']))\n",
    "    gugunList[gugun['gugun_cd']] = gugun['gugun_nm']\n",
    "print(gugunList)"
   ]
  },
  {
   "cell_type": "markdown",
   "metadata": {},
   "source": [
    "구군별 매장 정보 크롤링"
   ]
  },
  {
   "cell_type": "code",
   "execution_count": 57,
   "metadata": {
    "scrolled": false
   },
   "outputs": [
    {
     "name": "stdout",
     "output_type": "stream",
     "text": [
      "2\n",
      "   1. 쌍문역 : 서울특별시 도봉구 도봉로 480 (창동)(37.648456, 127.034783)\n",
      "   2. 창동이마트 : 서울특별시 도봉구 노해로65길 4 (창동)(37.651645, 127.046869)\n"
     ]
    }
   ],
   "source": [
    "# 크롤링할 구군 코드를 입력받는다.\n",
    "# gugun_cd = input('매정 정보를 확인할 구군 코드를 입력하세요 : ')\n",
    "\n",
    "targetSite = 'https://www.starbucks.co.kr/store/getStore.do?r=PIOSQ7SBU4'\n",
    "request = requests.post(targetSite, data = {\n",
    "    'p_sido_cd': '',               # 시도 코드\n",
    "    'p_gugun_cd': '0108',          # 구군 코드\n",
    "    'ins_lat': 37.5009759,         # 위도\n",
    "    'ins_lng': 127.03735019999999, # 경도\n",
    "    'in_biz_cd': '',\n",
    "    'iend': 2000,                  # 서버에서 넘어오는 최대 매장의 개수\n",
    "    'set_date': ''\n",
    "    # 'in_biz_cd', 'set_date'를 서버에 넘겨주지 않으면 서버에서 데이터를 얻어오지 못한다.\n",
    "})\n",
    "# print(request)\n",
    "\n",
    "store_list = request.json()\n",
    "print(len(store_list['list']))\n",
    "\n",
    "count = 0\n",
    "for store in store_list['list']:\n",
    "    count += 1\n",
    "    print('{0:4d}. {1} : {2}({3}, {4})'.format(count, store['s_name'], store['doro_address'], store['lat'], store['lot']))"
   ]
  },
  {
   "cell_type": "code",
   "execution_count": null,
   "metadata": {},
   "outputs": [],
   "source": []
  },
  {
   "cell_type": "code",
   "execution_count": null,
   "metadata": {},
   "outputs": [],
   "source": []
  },
  {
   "cell_type": "code",
   "execution_count": null,
   "metadata": {},
   "outputs": [],
   "source": []
  },
  {
   "cell_type": "code",
   "execution_count": null,
   "metadata": {},
   "outputs": [],
   "source": []
  },
  {
   "cell_type": "code",
   "execution_count": null,
   "metadata": {},
   "outputs": [],
   "source": []
  },
  {
   "cell_type": "code",
   "execution_count": null,
   "metadata": {},
   "outputs": [],
   "source": []
  },
  {
   "cell_type": "code",
   "execution_count": null,
   "metadata": {},
   "outputs": [],
   "source": []
  }
 ],
 "metadata": {
  "kernelspec": {
   "display_name": "Python 3",
   "language": "python",
   "name": "python3"
  },
  "language_info": {
   "codemirror_mode": {
    "name": "ipython",
    "version": 3
   },
   "file_extension": ".py",
   "mimetype": "text/x-python",
   "name": "python",
   "nbconvert_exporter": "python",
   "pygments_lexer": "ipython3",
   "version": "3.6.8"
  }
 },
 "nbformat": 4,
 "nbformat_minor": 4
}
