{
 "cells": [
  {
   "cell_type": "code",
   "execution_count": 1,
   "metadata": {},
   "outputs": [],
   "source": [
    "import warnings\n",
    "warnings.filterwarnings('ignore')\n",
    "import requests\n",
    "from bs4 import BeautifulSoup\n",
    "from datetime import datetime as dt\n",
    "import time\n",
    "header = {'User-agent': 'Mozilla/5.0 (Windows NT 6.1; WOW64; Trident/7.0; rv:11.0) like Gecko'}"
   ]
  },
  {
   "cell_type": "code",
   "execution_count": 3,
   "metadata": {},
   "outputs": [
    {
     "name": "stdout",
     "output_type": "stream",
     "text": [
      "https://www.genie.co.kr/chart/top200?ditc=D&ymd=20201119&hh=21&rtm=Y&pg=1\n",
      "https://www.genie.co.kr/chart/top200?ditc=D&ymd=20201119&hh=21&rtm=Y&pg=2\n",
      "https://www.genie.co.kr/chart/top200?ditc=D&ymd=20201119&hh=21&rtm=Y&pg=3\n",
      "https://www.genie.co.kr/chart/top200?ditc=D&ymd=20201119&hh=21&rtm=Y&pg=4\n"
     ]
    }
   ],
   "source": [
    "# 타겟 사이트 주소 만들기\n",
    "# https://www.genie.co.kr/chart/top200?ditc=D&ymd=20201119&hh=21&rtm=Y&pg=1 =>  1  ~  50\n",
    "# https://www.genie.co.kr/chart/top200?ditc=D&ymd=20201119&hh=21&rtm=Y&pg=2 =>  51 ~ 100\n",
    "# https://www.genie.co.kr/chart/top200?ditc=D&ymd=20201119&hh=21&rtm=Y&pg=3 => 101 ~ 150\n",
    "# https://www.genie.co.kr/chart/top200?ditc=D&ymd=20201119&hh=21&rtm=Y&pg=4 => 151 ~ 200\n",
    "url = 'https://www.genie.co.kr/chart/top200?ditc=D&ymd=20201119&hh=21&rtm=Y&pg=' # 변경되지 않는 주소\n",
    "for i in range(1, 5):\n",
    "    print('{}{}'.format(url, i))"
   ]
  },
  {
   "cell_type": "code",
   "execution_count": 17,
   "metadata": {
    "scrolled": true
   },
   "outputs": [
    {
     "name": "stdout",
     "output_type": "stream",
     "text": [
      "밤하늘의 별을 (2020)\n",
      "뻔한남자\n",
      "잠이 오질 않네요\n",
      "Dynamite\n",
      "HAPPENING\n",
      "가을밤에 든 생각\n",
      "힘든 건 사랑이 아니다\n",
      "Lovesick Girls\n",
      "딩가딩가 (Dingga)\n",
      "I CAN'T STOP ME\n",
      "이제 나만 믿어요\n",
      "취기를 빌려 (취향저격 그녀 X 산들)\n",
      "DON'T TOUCH ME\n",
      "Savage Love (Laxed - Siren Beat) (BTS Remix)\n",
      "너도 아는\n",
      "HERO\n",
      "오래된 노래\n",
      "AYA\n",
      "오래된 노래\n",
      "Midnight\n",
      "MAGO\n",
      "어느 60대 노부부이야기\n",
      "Dancing Cartoon\n",
      "Bad Boy\n",
      "만개 (Prod. 신지후)\n",
      "바램\n",
      "내 마음이 움찔했던 순간 (취향저격 그녀 X 규현)\n",
      "밤하늘의 저 별처럼\n",
      "광장동에서\n",
      "보라빛 엽서\n",
      "나보다 더 사랑해요\n",
      "살았소\n",
      "우산이 없어요\n",
      "When We Disco (Duet With 선미)\n",
      "에잇 (Prod. & Feat. SUGA of BTS)\n",
      "나랑 같이 걸을래 (바른연애 길잡이 X 적재)\n",
      "이제 나만 믿어요 (Piano by 조영수)\n",
      "도망가\n",
      "흔들리는 꽃들 속에서 네 샴푸향이 느껴진거야\n",
      "어느날 문득\n",
      "미워요\n",
      "How You Like That\n",
      "계단말고 엘리베이터\n",
      "사실 나는 (Feat. 전건호)\n",
      "백화 (白花) (Narration. 손숙)\n",
      "퇴근길\n",
      "나만의 길 (My Way)\n",
      "Blueming\n",
      "어떻게 이별까지 사랑하겠어, 널 사랑하는 거지\n",
      "Show Your Love\n"
     ]
    }
   ],
   "source": [
    "# 노래 제목 크롤링\n",
    "url = 'https://www.genie.co.kr/chart/top200?ditc=D&ymd=20201119&hh=21&rtm=Y&pg='\n",
    "for i in range(1, 2):\n",
    "    targetSite = '{}{}'.format(url, i)\n",
    "    # print(targetSite)\n",
    "    request = requests.get(targetSite, headers = header)\n",
    "    # print(request)\n",
    "    html = request.text\n",
    "    # print(html)\n",
    "    soup = BeautifulSoup(html, 'html.parser')\n",
    "    # print(soup)\n",
    "    \n",
    "    titles = soup.findAll('a', {'class': 'title ellipsis'})\n",
    "    # print(titles)\n",
    "    # print(len(titles))\n",
    "\n",
    "    for title in titles:\n",
    "        # print(title.text.strip())\n",
    "        # print(title.text.split('\\n')[-1])\n",
    "        print(title.text.strip().split('\\n')[0])"
   ]
  },
  {
   "cell_type": "code",
   "execution_count": 25,
   "metadata": {
    "scrolled": true
   },
   "outputs": [
    {
     "name": "stdout",
     "output_type": "stream",
     "text": [
      "경서\n",
      "이승기\n",
      "장범준\n",
      "방탄소년단\n",
      "AKMU (악동뮤지션)\n",
      "잔나비\n",
      "임창정\n",
      "BLACKPINK\n",
      "마마무(Mamamoo)\n",
      "TWICE (트와이스)\n",
      "임영웅\n",
      "산들\n",
      "환불원정대\n",
      "Jawsh 685 & Jason Derulo & 방탄소년단\n",
      "폴킴\n",
      "임영웅\n",
      "임영웅\n",
      "마마무(Mamamoo)\n",
      "Standing Egg (스탠딩 에그)\n",
      "박지훈\n",
      "여자친구 (GFRIEND)\n",
      "임영웅\n",
      "볼빨간사춘기\n",
      "청하 & Christopher\n",
      "김호중\n",
      "임영웅\n",
      "규현 (KYUHYUN)\n",
      "헤이즈 (Heize) & 펀치 (Punch)\n",
      "창모 (CHANGMO)\n",
      "임영웅\n",
      "김호중\n",
      "김호중\n",
      "김호중\n",
      "박진영\n",
      "아이유 (IU)\n",
      "적재\n",
      "임영웅\n",
      "MINO (송민호)\n",
      "장범준\n",
      "임영웅\n",
      "임영웅\n",
      "BLACKPINK\n",
      "임영웅\n",
      "경서예지\n",
      "김호중\n",
      "김호중\n",
      "김호중\n",
      "아이유 (IU)\n",
      "AKMU (악동뮤지션)\n",
      "비투비 포유\n"
     ]
    }
   ],
   "source": [
    "# 아티스트 크롤링\n",
    "url = 'https://www.genie.co.kr/chart/top200?ditc=D&ymd=20201119&hh=21&rtm=Y&pg='\n",
    "for i in range(1, 2):\n",
    "    targetSite = '{}{}'.format(url, i)\n",
    "    request = requests.get(targetSite, headers = header)\n",
    "    html = request.text\n",
    "    soup = BeautifulSoup(html, 'html.parser')\n",
    "    \n",
    "    artists = soup.findAll('a', {'class': 'artist ellipsis'})\n",
    "    # print(artists)\n",
    "    # print(len(artists)) # 55\n",
    "\n",
    "    for artist in artists[5:]:\n",
    "        # print(artist.text.strip())\n",
    "        # print(artist.text.split('\\n')[0])\n",
    "        print(artist.text.strip().split('\\n')[0])"
   ]
  },
  {
   "cell_type": "code",
   "execution_count": null,
   "metadata": {},
   "outputs": [],
   "source": []
  },
  {
   "cell_type": "code",
   "execution_count": null,
   "metadata": {},
   "outputs": [],
   "source": []
  },
  {
   "cell_type": "code",
   "execution_count": null,
   "metadata": {},
   "outputs": [],
   "source": []
  },
  {
   "cell_type": "code",
   "execution_count": null,
   "metadata": {},
   "outputs": [],
   "source": []
  },
  {
   "cell_type": "code",
   "execution_count": null,
   "metadata": {},
   "outputs": [],
   "source": []
  },
  {
   "cell_type": "code",
   "execution_count": null,
   "metadata": {},
   "outputs": [],
   "source": []
  },
  {
   "cell_type": "code",
   "execution_count": null,
   "metadata": {},
   "outputs": [],
   "source": []
  }
 ],
 "metadata": {
  "kernelspec": {
   "display_name": "Python 3",
   "language": "python",
   "name": "python3"
  },
  "language_info": {
   "codemirror_mode": {
    "name": "ipython",
    "version": 3
   },
   "file_extension": ".py",
   "mimetype": "text/x-python",
   "name": "python",
   "nbconvert_exporter": "python",
   "pygments_lexer": "ipython3",
   "version": "3.6.8"
  }
 },
 "nbformat": 4,
 "nbformat_minor": 4
}
