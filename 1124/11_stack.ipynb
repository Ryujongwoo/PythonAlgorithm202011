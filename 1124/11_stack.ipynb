{
 "cells": [
  {
   "cell_type": "code",
   "execution_count": 45,
   "metadata": {},
   "outputs": [],
   "source": [
    "class Stack:\n",
    "    # Stack 클래스가 생성될 때 스택의 크기를 넘겨받으면 넘겨받은 크기 만큼 스택을 생성하고 크기를 넘겨받지 않으면 5개의 데이터를\n",
    "    # 저장할 수 있는 스택을 만든다. => default 인수를 사용하면 된다.\n",
    "    def __init__(self, size = 5):\n",
    "        # print('Stack 클래스의 객체가 생성될 때 자동으로 실행된다.')\n",
    "        # print('Stack 클래스 객체가 메모리에 생성된 주소 : {}'.format(self))\n",
    "        # print('스택의 크기는 {}개'.format(size))\n",
    "        self.stack = []  # stack => 빈 리스트 => 데이터는 append() 메소드로 추가한다.\n",
    "        self.size = size # 스택의 크기\n",
    "        # top, SP(Stack Pointer) => stack에 몇 개의 데이터가 저장되어있나 기억한다. => 데이터가 입력되면 1증가, 출력되면 1감소\n",
    "        self.top = 0\n",
    "        \n",
    "    # push => 입력\n",
    "    def push(self, data):\n",
    "        if data not in self.stack: # 스택에 추가하려는 데이터가 스택에 존재하지 않는가?\n",
    "            # 추가하려는 데이터가 스택에 존재하지 않으므로 데이터를 추가한다.\n",
    "            # overflow 인가 검사한다. \n",
    "            #    => 스택의 크기(size)가 5일 때 스택으로 사용할 리스트의 인덱스(top)는 0, 1, 2, 3, 4 만 가능하다.\n",
    "            if self.top < self.size:\n",
    "                # overflow가 발생되지 않았으면 스택에 데이터를 추가한다.\n",
    "                self.stack.append(data) # 스택에 데이터를 추가한다.\n",
    "                self.top += 1           # 스택에 데이터를 추가했으므로 SP를 1증가 시킨다.\n",
    "                print('스택에 {}을(를) push 합니다.'.format(data))\n",
    "            else:\n",
    "                # overflow가 발생되면 스택이 가득찼다는 메시지를 출력한다.\n",
    "                print('overflow... 스택이 가득 차서 {}를(을) push 할 수 없습니다.'.format(data))\n",
    "            # ==========\n",
    "        else:\n",
    "            # 추가하려는 데이터가 스택에 존재하기 때문에 중복된 데이터라는 메시지를 출력한다.\n",
    "            print('{}는(은) 중복된 데이터 입니다.'.format(data))\n",
    "        self.view()\n",
    "    \n",
    "    # pop => 출력\n",
    "    def pop(self):\n",
    "        # underflow 인가 검사한다.\n",
    "        if self.top <= 0:\n",
    "            print('스택에 저장된 데이터가 없습니다.')\n",
    "        else:\n",
    "            # pop() 메소드는 리스트에 저장된 마지막 데이터를 얻어온 후 제거한다.\n",
    "            data = self.stack.pop() # 스택에 저장된 데이터를 제거한다.\n",
    "            self.top -= 1           # 스택에 데이터를 제거했으므로 SP를 1감소 시킨다.\n",
    "            print('pop 데이터 : {}'.format(data), end = ' ')\n",
    "            self.view()\n",
    "    \n",
    "    # view => 스택에 저장된 데이터 보기\n",
    "    def view(self):\n",
    "        # 스택에 저장된 데이터를 출력한다.\n",
    "        print('스택에 저장된 데이터 => ', end = '')\n",
    "        if self.top <= 0:\n",
    "            # 스택에 저장된 데이터가 없으므로 없다고 출력한다.\n",
    "            print('없음', end = '')\n",
    "        else:\n",
    "        # 스택에 저장된 데이터의 개수 만큼 반복하며 스택에 저장된 데이터를 출력한다.\n",
    "            for i in range(self.top):\n",
    "                if i > 0:\n",
    "                    print(', ', end = '')\n",
    "                # ==========\n",
    "                print(self.stack[i], end = '')\n",
    "            # ==========\n",
    "        print()"
   ]
  },
  {
   "cell_type": "code",
   "execution_count": 46,
   "metadata": {},
   "outputs": [
    {
     "name": "stdout",
     "output_type": "stream",
     "text": [
      "스택에 저장된 데이터 => 없음\n",
      "스택에 100을(를) push 합니다.\n",
      "스택에 저장된 데이터 => 100\n",
      "100는(은) 중복된 데이터 입니다.\n",
      "스택에 저장된 데이터 => 100\n",
      "스택에 화요일을(를) push 합니다.\n",
      "스택에 저장된 데이터 => 100, 화요일\n",
      "스택에 True을(를) push 합니다.\n",
      "스택에 저장된 데이터 => 100, 화요일, True\n",
      "스택에 3.141952을(를) push 합니다.\n",
      "스택에 저장된 데이터 => 100, 화요일, True, 3.141952\n",
      "스택에 222을(를) push 합니다.\n",
      "스택에 저장된 데이터 => 100, 화요일, True, 3.141952, 222\n",
      "overflow... 스택이 가득 차서 333를(을) push 할 수 없습니다.\n",
      "스택에 저장된 데이터 => 100, 화요일, True, 3.141952, 222\n",
      "================================================================================\n",
      "pop 데이터 : 222 스택에 저장된 데이터 => 100, 화요일, True, 3.141952\n",
      "pop 데이터 : 3.141952 스택에 저장된 데이터 => 100, 화요일, True\n",
      "pop 데이터 : True 스택에 저장된 데이터 => 100, 화요일\n",
      "pop 데이터 : 화요일 스택에 저장된 데이터 => 100\n",
      "pop 데이터 : 100 스택에 저장된 데이터 => 없음\n"
     ]
    }
   ],
   "source": [
    "# 현재 파일이 다른 파일에 모듈로 import 될 때 if __name__ == '__main__': 내부에 코딩한 내용은 자동으로 실행되지 않는다.\n",
    "if __name__ == '__main__':\n",
    "    # 테스트 코드\n",
    "    stack = Stack()\n",
    "    stack.view()\n",
    "    stack.push(100)\n",
    "    stack.push(100)\n",
    "    stack.push('화요일')\n",
    "    stack.push(True)\n",
    "    stack.push(3.141952)\n",
    "    stack.push(222)\n",
    "    stack.push(333)\n",
    "    print('=' * 80)\n",
    "    stack.pop()\n",
    "    stack.pop()\n",
    "    stack.pop()\n",
    "    stack.pop()\n",
    "    stack.pop()"
   ]
  },
  {
   "cell_type": "code",
   "execution_count": null,
   "metadata": {},
   "outputs": [],
   "source": []
  },
  {
   "cell_type": "code",
   "execution_count": null,
   "metadata": {},
   "outputs": [],
   "source": []
  },
  {
   "cell_type": "code",
   "execution_count": null,
   "metadata": {},
   "outputs": [],
   "source": []
  },
  {
   "cell_type": "code",
   "execution_count": null,
   "metadata": {},
   "outputs": [],
   "source": []
  },
  {
   "cell_type": "code",
   "execution_count": null,
   "metadata": {},
   "outputs": [],
   "source": []
  },
  {
   "cell_type": "code",
   "execution_count": null,
   "metadata": {},
   "outputs": [],
   "source": []
  },
  {
   "cell_type": "code",
   "execution_count": null,
   "metadata": {},
   "outputs": [],
   "source": []
  },
  {
   "cell_type": "code",
   "execution_count": null,
   "metadata": {},
   "outputs": [],
   "source": []
  }
 ],
 "metadata": {
  "kernelspec": {
   "display_name": "Python 3",
   "language": "python",
   "name": "python3"
  },
  "language_info": {
   "codemirror_mode": {
    "name": "ipython",
    "version": 3
   },
   "file_extension": ".py",
   "mimetype": "text/x-python",
   "name": "python",
   "nbconvert_exporter": "python",
   "pygments_lexer": "ipython3",
   "version": "3.6.8"
  }
 },
 "nbformat": 4,
 "nbformat_minor": 4
}
