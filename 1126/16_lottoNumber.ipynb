{
 "cells": [
  {
   "cell_type": "code",
   "execution_count": 1,
   "metadata": {},
   "outputs": [],
   "source": [
    "import random"
   ]
  },
  {
   "cell_type": "code",
   "execution_count": 25,
   "metadata": {},
   "outputs": [
    {
     "name": "stdout",
     "output_type": "stream",
     "text": [
      "03\n",
      "33\n",
      "13\n",
      "22\n",
      "36\n",
      "41\n"
     ]
    }
   ],
   "source": [
    "for i in range(6):\n",
    "    # randrange(a, b) : a 부터 b - 1 사이의 난수를 발생시킨다.\n",
    "    print('{0:02d}'.format(random.randrange(1, 46)))"
   ]
  },
  {
   "cell_type": "code",
   "execution_count": 42,
   "metadata": {},
   "outputs": [
    {
     "name": "stdout",
     "output_type": "stream",
     "text": [
      "1등 번호 : {32, 3, 5, 9, 10, 43}\n",
      "32\n",
      "1\n",
      "보너스 번호 : 1\n"
     ]
    }
   ],
   "source": [
    "lotto = set()\n",
    "while True:\n",
    "    lottoNumber = random.randrange(1, 46)\n",
    "    lotto.add(lottoNumber)\n",
    "    if len(lotto) == 6:\n",
    "        break\n",
    "print('1등 번호 : {}'.format(lotto))\n",
    "\n",
    "while True:\n",
    "    bonus = random.randrange(1, 46)\n",
    "    print(bonus)\n",
    "    if bonus not in lotto:\n",
    "        break\n",
    "print('보너스 번호 : {}'.format(bonus))"
   ]
  },
  {
   "cell_type": "code",
   "execution_count": 51,
   "metadata": {},
   "outputs": [
    {
     "name": "stdout",
     "output_type": "stream",
     "text": [
      "흰공 : {33, 13, 51, 56, 29}\n",
      "파워볼 : 13\n"
     ]
    }
   ],
   "source": [
    "lotto = set()\n",
    "while True:\n",
    "    lottoNumber = random.randrange(1, 69)\n",
    "    lotto.add(lottoNumber)\n",
    "    if len(lotto) == 5:\n",
    "        break\n",
    "print('흰공 : {}'.format(lotto))\n",
    "print('파워볼 : {}'.format(random.randrange(1, 27)))"
   ]
  },
  {
   "cell_type": "code",
   "execution_count": null,
   "metadata": {},
   "outputs": [],
   "source": []
  },
  {
   "cell_type": "code",
   "execution_count": null,
   "metadata": {},
   "outputs": [],
   "source": []
  },
  {
   "cell_type": "code",
   "execution_count": null,
   "metadata": {},
   "outputs": [],
   "source": []
  },
  {
   "cell_type": "code",
   "execution_count": null,
   "metadata": {},
   "outputs": [],
   "source": []
  },
  {
   "cell_type": "code",
   "execution_count": null,
   "metadata": {},
   "outputs": [],
   "source": []
  },
  {
   "cell_type": "code",
   "execution_count": null,
   "metadata": {},
   "outputs": [],
   "source": []
  },
  {
   "cell_type": "code",
   "execution_count": null,
   "metadata": {},
   "outputs": [],
   "source": []
  },
  {
   "cell_type": "code",
   "execution_count": null,
   "metadata": {},
   "outputs": [],
   "source": []
  },
  {
   "cell_type": "code",
   "execution_count": null,
   "metadata": {},
   "outputs": [],
   "source": []
  }
 ],
 "metadata": {
  "kernelspec": {
   "display_name": "Python 3",
   "language": "python",
   "name": "python3"
  },
  "language_info": {
   "codemirror_mode": {
    "name": "ipython",
    "version": 3
   },
   "file_extension": ".py",
   "mimetype": "text/x-python",
   "name": "python",
   "nbconvert_exporter": "python",
   "pygments_lexer": "ipython3",
   "version": "3.6.8"
  }
 },
 "nbformat": 4,
 "nbformat_minor": 4
}
