{
 "cells": [
  {
   "cell_type": "code",
   "execution_count": 23,
   "metadata": {},
   "outputs": [
    {
     "data": {
      "image/png": "[encoded data removed]",
      "text/plain": [
       "<IPython.core.display.Image object>"
      ]
     },
     "execution_count": 23,
     "metadata": {
      "image/png": {
       "width": "1000"
      }
     },
     "output_type": "execute_result"
    }
   ],
   "source": [
    "from IPython.display import Image\n",
    "Image('./selectionSort.png', width = \"1000\")\n",
    "# selection 정렬은 특정 위치를 선택해서 나머지 위치와 전부 비교하며 정렬한다."
   ]
  },
  {
   "cell_type": "code",
   "execution_count": 9,
   "metadata": {},
   "outputs": [
    {
     "name": "stdout",
     "output_type": "stream",
     "text": [
      "i = 0, j = 1\n",
      "i = 0, j = 2\n",
      "i = 0, j = 3\n",
      "i = 0, j = 4\n",
      "i = 1, j = 2\n",
      "i = 1, j = 3\n",
      "i = 1, j = 4\n",
      "i = 2, j = 3\n",
      "i = 2, j = 4\n",
      "i = 3, j = 4\n"
     ]
    }
   ],
   "source": [
    "for i in range(4):\n",
    "    for j in range(i + 1, 5):\n",
    "        print('i = {}, j = {}'.format(i, j))"
   ]
  },
  {
   "cell_type": "code",
   "execution_count": 11,
   "metadata": {},
   "outputs": [
    {
     "name": "stdout",
     "output_type": "stream",
     "text": [
      "1회전 결과 : [1, 8, 4, 9, 3]\n",
      "2회전 결과 : [1, 3, 8, 9, 4]\n",
      "3회전 결과 : [1, 3, 4, 9, 8]\n",
      "4회전 결과 : [1, 3, 4, 8, 9]\n"
     ]
    }
   ],
   "source": [
    "sortData = [8, 3, 4, 9, 1]\n",
    "for i in range(4):\n",
    "    for j in range(i + 1, 5):\n",
    "        # 오름차순 정렬 => 두 값을 비교해서 앞의 값이 크면 위치를 교환한다.\n",
    "        if sortData[i] > sortData[j]:\n",
    "            # 두 기억 장소의 값을 교환한다.\n",
    "            temp = sortData[i]\n",
    "            sortData[i] = sortData[j]\n",
    "            sortData[j] = temp\n",
    "        # ================= if\n",
    "    # ================= for j => 회전 끝\n",
    "    print('{}회전 결과 : {}'.format(i + 1, sortData))\n",
    "# ================= for i => 정렬 끝\n",
    "# print('정렬 결과 : {}'.format(sortData))"
   ]
  },
  {
   "cell_type": "code",
   "execution_count": 13,
   "metadata": {},
   "outputs": [
    {
     "name": "stdout",
     "output_type": "stream",
     "text": [
      "1회전 결과 : [9, 3, 4, 8, 1]\n",
      "2회전 결과 : [9, 8, 3, 4, 1]\n",
      "3회전 결과 : [9, 8, 4, 3, 1]\n",
      "4회전 결과 : [9, 8, 4, 3, 1]\n"
     ]
    }
   ],
   "source": [
    "sortData = [8, 3, 4, 9, 1]\n",
    "for i in range(4):\n",
    "    for j in range(i + 1, 5):\n",
    "        # 내림차순 정렬 => 두 값을 비교해서 뒤의 값이 크면 위치를 교환한다.\n",
    "        # 비교할 때 부등호가 '>'면 오름차순으로 정렬되고 부등호를 '<'로 수정하면 내림차순으로 정렬된다.\n",
    "        if sortData[i] < sortData[j]:\n",
    "            # 두 기억 장소의 값을 교환한다.\n",
    "            sortData[i], sortData[j] = sortData[j], sortData[i]\n",
    "        # ================= if\n",
    "    # ================= for j => 회전 끝\n",
    "    print('{}회전 결과 : {}'.format(i + 1, sortData))\n",
    "# ================= for i => 정렬 끝\n",
    "# print('정렬 결과 : {}'.format(sortData))"
   ]
  },
  {
   "cell_type": "code",
   "execution_count": 22,
   "metadata": {},
   "outputs": [
    {
     "name": "stdout",
     "output_type": "stream",
     "text": [
      "1회전 결과 : [1, 8, 4, 9, 3]\n",
      "2회전 결과 : [1, 3, 8, 9, 4]\n",
      "3회전 결과 : [1, 3, 4, 9, 8]\n",
      "4회전 결과 : [1, 3, 4, 8, 9]\n"
     ]
    }
   ],
   "source": [
    "sortData = [8, 3, 4, 9, 1]\n",
    "for i in range(len(sortData) - 1):\n",
    "    for j in range(i + 1, len(sortData)):\n",
    "        if sortData[i] > sortData[j]:\n",
    "            sortData[i], sortData[j] = sortData[j], sortData[i]\n",
    "    print('{}회전 결과 : {}'.format(i + 1, sortData))\n",
    "# print('정렬 결과 : {}'.format(sortData))"
   ]
  },
  {
   "cell_type": "code",
   "execution_count": null,
   "metadata": {},
   "outputs": [],
   "source": []
  },
  {
   "cell_type": "code",
   "execution_count": null,
   "metadata": {},
   "outputs": [],
   "source": []
  },
  {
   "cell_type": "code",
   "execution_count": null,
   "metadata": {},
   "outputs": [],
   "source": []
  },
  {
   "cell_type": "code",
   "execution_count": null,
   "metadata": {},
   "outputs": [],
   "source": []
  },
  {
   "cell_type": "code",
   "execution_count": null,
   "metadata": {},
   "outputs": [],
   "source": []
  }
 ],
 "metadata": {
  "kernelspec": {
   "display_name": "Python 3",
   "language": "python",
   "name": "python3"
  },
  "language_info": {
   "codemirror_mode": {
    "name": "ipython",
    "version": 3
   },
   "file_extension": ".py",
   "mimetype": "text/x-python",
   "name": "python",
   "nbconvert_exporter": "python",
   "pygments_lexer": "ipython3",
   "version": "3.6.8"
  }
 },
 "nbformat": 4,
 "nbformat_minor": 4
}
